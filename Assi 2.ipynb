{
  "nbformat": 4,
  "nbformat_minor": 0,
  "metadata": {
    "colab": {
      "name": "Untitled2.ipynb",
      "provenance": [],
      "authorship_tag": "ABX9TyOxgDdIDrvMf6RuVxYn5CiT",
      "include_colab_link": true
    },
    "kernelspec": {
      "name": "python3",
      "display_name": "Python 3"
    },
    "language_info": {
      "name": "python"
    }
  },
  "cells": [
    {
      "cell_type": "markdown",
      "metadata": {
        "id": "view-in-github",
        "colab_type": "text"
      },
      "source": [
        "<a href=\"https://colab.research.google.com/github/ivansameh/Machine-Learning-Training/blob/main/Assi%202.ipynb\" target=\"_parent\"><img src=\"https://colab.research.google.com/assets/colab-badge.svg\" alt=\"Open In Colab\"/></a>"
      ]
    },
    {
      "cell_type": "markdown",
      "metadata": {
        "id": "KQkJpySkUbY3"
      },
      "source": [
        "1. Calories Burned\n",
        "Running on a particular treadmill you burn 4.2 calories per minute. Write a program that uses a loop to display the number of calories burned after 10, 15, 20, 25, and 30 minutes."
      ]
    },
    {
      "cell_type": "code",
      "metadata": {
        "id": "HVVj5UjjUjqm"
      },
      "source": [
        "t=10\n",
        "while t <=30:\n",
        "  c=4.2\n",
        "  cb=c*t\n",
        "  print('The calories you have burnt',cb,'in',t,'Minutes')\n",
        "  t=t+5"
      ],
      "execution_count": null,
      "outputs": []
    },
    {
      "cell_type": "markdown",
      "metadata": {
        "id": "PPXZqvMjUo4Z"
      },
      "source": [
        "2. Distance Traveled\n",
        "The distance a vehicle travels can be calculated as follows:\n",
        "distance=speed∗time\n",
        "For example, if a train travels 40 miles per hour for three hours, the distance traveled is 120 miles. Write a program that asks the user for the speed of a vehicle (in miles per hour) and the number of hours it has traveled. It should then use a loop to display the distance the vehicle has traveled for each hour of that time period. Here is an example of the desired output:\n",
        "\n",
        "10.PNG\n"
      ]
    },
    {
      "cell_type": "code",
      "metadata": {
        "id": "3sDC9udTUvnl"
      },
      "source": [
        "s=float (input('Please,enter the speed of the car in miles per hour... '))\n",
        "h=int (input('Please, enter the time you have traveled in hours... '))\n",
        "for t in range(1,h+1,1):\n",
        "  d=t*s\n",
        "  print('The distance you have traveled is',d,', in',t,'hour')"
      ],
      "execution_count": null,
      "outputs": []
    },
    {
      "cell_type": "markdown",
      "metadata": {
        "id": "DUqbPsQbU6Ie"
      },
      "source": [
        "3. Celsius to Fahrenheit Table\n",
        "Write a program that displays a table of the Celsius temperatures 0 through 20 and their Fahrenheit equivalents. The formula for converting a temperature from Celsius to Fahrenheit is\n",
        "F=95C+32\n",
        "\n",
        "where F is the Fahrenheit temperature and C is the Celsius temperature. Your program must use a loop to display the table.\n",
        "\n"
      ]
    },
    {
      "cell_type": "code",
      "metadata": {
        "id": "7W0fEXa7VAZo"
      },
      "source": [
        "for c in range(0,21,1):\n",
        "  f=((9/5)*c)+32\n",
        "  print(c,'celsius is equal to ',f,'fahrenheit')"
      ],
      "execution_count": null,
      "outputs": []
    },
    {
      "cell_type": "markdown",
      "metadata": {
        "id": "oDIdCsqEVE6H"
      },
      "source": [
        "4. Calculating the Factorial of a Number\n",
        "In mathematics, the notation n! represents the factorial of the nonnegative integer n . The factorial of n is the product of all the nonnegative integers from 1 to n. For example,\n",
        "7!=1∗2∗3∗4∗5∗6∗7=5040\n",
        "\n",
        "and\n",
        "4!=1∗2∗3∗4=24\n",
        "\n",
        "Write a program that lets the user enter a nonnegative integer and then uses a loop to calculate the factorial of that number. Display the factorial.\n"
      ]
    },
    {
      "cell_type": "code",
      "metadata": {
        "id": "tLMVKs7eVM-z"
      },
      "source": [
        "n= int(input('Please,Enter the number... '))\n",
        "m=1\n",
        "for x in range(1,n+1):\n",
        "  m=m*x\n",
        "print('factorial',n,'= ',m,)"
      ],
      "execution_count": null,
      "outputs": []
    },
    {
      "cell_type": "markdown",
      "metadata": {
        "id": "G0FKSq3GVR1q"
      },
      "source": [
        "5. Write a program that uses nested loops to draw this pattern:\n",
        "![image.png](data:image/png;base64,iVBORw0KGgoAAAANSUhEUgAAAJcAAAD4CAYAAADhPXT2AAAQUElEQVR4nO3d7VMUV74H8P1Ppqe7ZzShwIBEBSVRN7hoImBcwEhwBTVKkGhwRBMFchVkIyqgERGf8CEOJrJIUKMS5Glsc9lNynBNcm/F9QEwUl234lJQSs2b730BQSPJBi59Znp6vi8+b3+eY3/LaWdOf/sPmu4FkQh/8PcCyLoYLhKG4SJhGC4ShuEiYRguEobhImEYLhKG4SJhGC4ShuEiYRguEobhImEYLhKG4SJhhIar9UY79nx6A1d6vdD0QVxpv4zyxrto9dMc8i2h4dq/NhKqvAjvf/0Y2oMf8P5CFWpoNsq7xzOn36A55GtCw7UzbRIUJQl5Nwah3e/AOy8rUF/IwUfjCsVDg+aQrwkN1weLHVDUZSj6wQutpxmrpslwROfjyP1xzOntMWYO+ZzQcG2er0KZ/BZ2d3mhdTcgLdQO5ys7cfrHccx58L0xc8jnhIZr3eynPr7u1ODPDgnOhftR92Acc+7/3Zg55HNCw/XWNBlq1FYc7vHCc/MQXlMkTEo5gUvjmdPTbMwc8jnjw9X13zhQdQgFZVWY95wENWIp1pZWIW/bCsyQJThjc7Cl7BA+ONSMut+8Ie9Dbd0pFJRXIX/PpgnMIUuFq+WTdZgiSVBsv8M+HSvODfz6nO4LWBZm//0ZvzeHrBUu7c43KN29B67CXYiWJThiVmJd4S5sWLcYUyQ7QufnYEPhbuSWNuDMvd+a8xPcH1dgY+EuuPJWTGAOWStcIwaxQJEwedknuKp70Vq/CZF2BTPfu462cczx3Kg0ZA75nsBwPcIfZTumrDmPFt2L5tNZCLWpmLu9E+3jmNOu7TFkDvmegHD9Cw3XOlDd6MEM2Y7wvxzGkcbrqNq2GE6bijm5DTjW+CVOaF1o/jdzrnZ24kTjdRw9/O6E5pCFwtV6biMi7WO5EY/Bms9/40a85wtkRMpjvKH/N3PIWuHy3PgM2cvTkJi8FE6bHaEv/RkJyUvxp+gQqDYVkfOWIiH5TSxKL8a+m4O/PufBbZRteQuLUlIRP2/a/38OWStcTzzEZJsDr5bdhUcfwNHcGDikF5Hxt/5xzbl6NMOQOeR74sLV2w2nzYHXD/0vNL0fFdkvQpVfwtuXx/MRNogLHy0xYA75g7hwPfgeTlsoUt190PQ+lK4MhSLPx4b2R+OY8xhnP0wwYA75g7hw/fgPOO3TsbJ+AJr+E/6a6oAiv44tXz8ex5xHOFUQa8Ac8gdx4eppgyrPRfYXA9B6u4fPZL2Jwv8Zz5wBHHbNMmAO+YO4cHVfhiq/htwvnxxNHjmTNeY5/di/dqoBc8gfhN7QZ7hOwt3jhaYPoOZQPtK3X8L53vHMGcSFuj0GzCF/4KNlJAzDRcIwXCQMw0XCMFwkDMNFwjBcJAzDRcIwXCQMw0XCMFwkDMNFwjBcJAzDRcIwXCQMw0XCMFwkDMNFwgRED70xBlD/eR32tevw6F5ovTrctQ2o7uTzj6IEQA+9QbovIz3CPtKl6vlqP+JkO8JWN6DFBBfCigKgh94gdz9BklOCM/Eg6nu9aLtaiBjZjvCsSwyXIObvoTeI57sjWKhImPTGSVzRvWht2IxpdgVRuR6WyAli/h56g3g6yhErS3g+vRbNuhctNdkIk1TM2XaDJXKCmL+H3iBtzUW/+BhsOpqByTYVcbtuDd3gk+HM30NvkNaG9zDNLmOGqw2t+iDO702B0+ZAYmWv3y+CVZm0h94YzR2NI2vZuj4BITYZEUnbkFd2EDlps+CwqZiTVYH88sPY0XDL7xfDaszZQ2+IfuzNDB/bWmwS1Mhcv18MqzFpD70xmjznRtayLu1lOGwKZi4rgquwBCviw6FKoYhdWwJXYSnyam76/WJYjel76I1aS31pEpy2SUg+9hCaPoDK9dOhyrOR1chv6EUxfQ+9UWs5U/QqnNILSDvTD03vQ+mq4YbCa2woFMW0PfSGuHdvZC3Fb8fAIU1F8j4PqhubkRPvgCLHIdOtobqxA2du9vn9YliNOXvoDTGAA+9MH9tabBLU6Dy/XwyrMWcPvSEeo969fWQtc6eqUKRQzExIRUJSIqKes0ORp2NuUioSUpZhScFFv18MqzF9D71Ra/kwzQlFSUJ+5yC0+x5kRitQI1yo4LsahTF5D71xaxn6EX05iv/phdZ9BRkRdjhmFuAYX8IujMl76I1by+YFKpSQLJR1eaF11WNpiARnbAncfAm7MCbvoTduLevnqlAjN6GyxwvtjhuLVQnOhRU4x5ewC2PyHnrj1rImSobjpe04ft8Lz7fDZ7tSjvMl7AKZvIfeuLWkh9vhjCvFpyNHnJ+c7fL3RbAqk/fQG7eWA0UurD74zdDDIT2dKM7dgA1nu3iWSyA+WkbCMFwkDMNFwjBcJAzDRcIwXCQMw0XCMFwkDMNFwjBcJAzDRcIwXCQMw0XCMFwkDMNFwjBcJAzDRcIwXCRMEPXQcz++Fjw99BPWb7H9iBc8PfQT9tBi+xEvaHroJ6y3x1r78YGg6aGfsAffW2s/PhA0PfQTdv/v1tqPDwRND/2E9TRbaz8+YOkeeiP3k79nkzX2E8jhMk8PPffjb5buoTd0P3krrLGfgA7XCDP10E+c50alpfbjC0HSQz9x7doeS+3HF6zdQ2/gfo4eftci+wngcJmnh5778TcL99Abu5/4edMssZ+ADtcTZuqhn7irRzMstR9fCI4eegNc+GiJpfbjC8HRQ2+Asx8mWGo/vhAcPfQGOFUQa6n9+EJw9NAb4LBrlqX24wvB0UNvgP1rp1pqP74QHD30BrhQt8dS+/EFPlpGwjBcJAzDRcIwXCQMw0XCMFwkDMNFwjBcJAzDRcIwXCQMw0XCMFwkDMNFwjBcJAzDRcIwXCQMw0XCMFwkDHvo/eDpvxeP7oXWq8Nd24DqTms9A8keep/7ZZ993QMvPF/tR5xsR9jqBrT4fX3GYQ+9z/2yz76+14u2q4WIke0Iz7rEcI0Ve9t/xTN99ld0L1obNmOaXUFUrsdSRXLsofe1Z/rsm3UvWmqyESapmLPthqWK5NhD72vP9Nm36F40Hc3AZJuKuF23hm7wLYI99L72TJ99qz6I83tT4LQ5kFjZ6//1GYg99D7Rh9q6UygorxrdZ192EDlps+CwqZiTVYH88sPY0XDLBGs2YbjY2/4rui9gWZj99/9OhqmRuf5fsxnDZbkeekP8BPfHFdhYuGtUn72rsAQr4sOhSqGIXVsCV2Ep8mpummDNZgzXCGv10Bvl2T57TR9A5frpUOXZyGq01r/k7KH3sWf77DW9D6WrhlsKr1mrpZA99D5ytbMTJxqvj+qzr25sRk68A4och0y3hurGDpy52ef39ZoyXOxt/xU9XyAjUh77DX10nv/XbMZwWa2H3hAPbqNsy1tYlJI6qs8+ISkRUc/ZocjTMTcpFQkpy7Ck4KL/12zGcD1hrR56ozzbZ6/d9yAzWoEa4UKFxb73Yw+9Tw2O6rPXuq8gI8IOx8wCHLPYD/rsofepx6P67LWueiwNkeCMLYHbYj/os4fepx6N6rPX7rixWJXgXFiBcxb7QZ899D41MKrP3vPtESxUJExKOW65H/TZQ+9T/aP67IeOOEt4Pr3Wct/7sYfepwZH9dlrPZ0ozt2ADWe7LHWWS9P5aBkJxHCRMAwXCcNwkTAMFwnDcJEwDBcJw3CRMAwXCcNwkTAMFwnDcJEwDBcJw3CRMAwXCcNwkTAMFwnDcJEw7KEPVD23ceTURbh/GHpq3fPDDeyvuY7PekywtmHsoQ9QLbU5iJB+7lF9jL/tWgSnNAVpNeZ5op099AHq6rEVmGxzYEHZbXj0AZzY+kc4pAgsPxsk4WIPvSiDuDhcC7DooA5NH0DVu1FQ5Rhkmqg5iD30Aekxzv41Hk7b81hysg+a3o/y1VOgynHIaTNPXQJ76APSAE7mPf0x+BM+THOari6BPfQBaQBVOVFQ7bOw5uIAtN4uFLxuvroE9tAHkOaORuzYewj5ZQewckEIFPuLSHi/EvllO5EUpUCR52P57ioU7PsYB7/2/409e+gDRj/2ZoZDHVP1pYzIdV/4fc3soQ8gTZ5z2FK0G67CIiTNUqDIs5Gctwuu7bmYH2aHGhKP9O274NpRiXLtX35fL3voA1HvbeQlOqA4V2LnXS+0niasfFGGI+Y/UG2ir3nYQx+IfryJjX9SoYa9g73dXmhd9UgNkeCcV4IaE33Nwx76QHLvHmqavkT1JTf+Eq1ADV+FDz6/juqGnZivSHC+ko+yK9dR3fRfOG+CHjT20AeMARx4Z/qYb+hnbGz3+5rZQx8wHqPevR0pS95EQtJ8TJUlqCFzMD85FQmvxSBEkuCMXID45FQkvrEa6z/t8vua2UMfiO4O/9qxqAqf9XrRdikfUbIdEdmXTfUCdvbQB6CRkt6lp9Goe9FS50KEpCB68zVT/U+cPfQByNOxF/NkCaGrPkOz7kXz6bcRalMxZ7u5XsDOHvoA1N5cjJdlGZHrm9Cqe9F0ZDkm2VTE7TbXC9jZQx+AWi9uxQy7gllb/hNtT73yxWwvYGcPfQBqqc1BuKTileLvnhxxHjnb5f/1/Yw99AHI820jNmZvQZFn6D9HrddOIzO7BB+Z7KsdPlpGwjBcJAzDRcIwXCQMw0XCMFwkDMNFwjBcJAzDRcIwXCQMw0XCMFwkDMNFwjBcJAzDRcIwXCQMw0XCMFwkDHvog9oA6j+vw752feipoV4d7toGVHca82wpe+iDWfdlpEfYR3pqPV/tR5xsR9jqBkOe3GYPfTC7+wmSnBKciQdR3+tF29VCxMh2hGddMn+42ENvbp7vhmsB3jiJK7oXrQ2bMc2uICrXY0gtAHvog5inoxyxsoTn02vRrHvRUpONMEnFnG3G1AKwhz6ItTUX/eJjsOloBibbfn6f0MTns4c+iLU2vIdpdhkzXG1o1Qdxfm+KobUA7KEPNk9dn63rExBikxGRtA15ZQeRkzYLDpuKOVkVyC8/jB0Nt8wVLvbQm9uYr49NghqZa65wsYfe5J66PuvSXobDpmDmsiK4CkuwIj4cqhSK2LUlcBWWIq/mpsnCNYI99OY2iPrSJDhtk5B87CE0fQCV66dDlWcjq9H039Czh97cHuFM0atwSi8g7Uw/NL0PpauG2x+vGdP+yB76oPPk+hS/HQOHNBXJ+zyobmxGTrwDihyHTLeG6sYOnLk5sb4v9tAHmTFfH5sENTrPXOFiD725PX195k5VoUihmJmQioSkREQ9Z4ciT8fcpFQkpCzDkoKL5grXE+yhN7eHQ2+XVZKQ3zkI7b4HmdEK1AgXKgz6/pE99MFqpAR5OYr/6YXWfQUZEXY4ZhbgmEEHC9hDH6wefI/NC1QoIVko6/JC66rH0hAJztgSuA06WMAe+mD14z+wfq4KNXITKnu80O64sViV4FxYgXMGHSxgD32w6mnDmigZjpe24/j9p175knLcsIMF7KEPVt2XkR5uhzOuFJ+OHHF+crbLiD+DPfTBqrcbB4pcWH3wm6EHZno6UZy7ARvOdhn2ihc+WkbCMFwkDMNFwjBcJAzDRcIwXCQMw0XCMFwkDMNFwjBcJMz/Ab9f0oQQN7BnAAAAAElFTkSuQmCC)\n",
        "![image.png](data:image/png;base64,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)"
      ]
    },
    {
      "cell_type": "code",
      "metadata": {
        "id": "HPGgj1msVjrI"
      },
      "source": [
        "for i in range(7,0,-1):\n",
        "  print(\"*  \"*i)"
      ],
      "execution_count": null,
      "outputs": []
    },
    {
      "cell_type": "code",
      "metadata": {
        "id": "7Gt7kCdvVbDR"
      },
      "source": [
        "for i in range(0,7,1):\n",
        "  print(\"#\",\" \"*i,\"#\")"
      ],
      "execution_count": null,
      "outputs": []
    },
    {
      "cell_type": "markdown",
      "metadata": {
        "id": "DCQ2wDagVvpr"
      },
      "source": [
        "6. Math Quiz\n",
        "Write a program that gives simple math quizzes. The program should display two random numbers that are to be added, such as: 247 + 129\n",
        "\n",
        "The program should allow the student to enter the answer. If the answer is correct, a message of congratulations should be displayed. If the answer is incorrect, a message showing the correct answer should be displayed.\n",
        "\n"
      ]
    },
    {
      "cell_type": "code",
      "metadata": {
        "id": "fQZMIrr0Vzqg"
      },
      "source": [
        "import random\n",
        "x=random.randint(0,1000)\n",
        "y=random.randint(0,1000)\n",
        "\n",
        "z=x+y\n",
        "\n",
        "print(x,'+',y,'=... ')\n",
        "n=int (input())\n",
        "\n",
        "if n ==z:\n",
        "  print('Congrats!!')\n",
        "\n",
        "else :\n",
        "  print('Answer is incorrect')"
      ],
      "execution_count": null,
      "outputs": []
    },
    {
      "cell_type": "markdown",
      "metadata": {
        "id": "JSWrnFY6V24Z"
      },
      "source": [
        "7. Kinetic Energy\n",
        "In physics, an object that is in motion is said to have kinetic energy. The following formula can be used to determine a moving object’s kinetic energy:\n",
        "KE=12mv2\n",
        "\n",
        "The variables in the formula are as follows: KE is the kinetic energy, m is the object’s mass in kilograms, and v is the object’s velocity in meters per second. Write a function named kinetic_energy that accepts an object’s mass (in kilograms) and velocity (in meters per second) as arguments. The function should return the amount of kinetic energy that the object has. Write a program that asks the user to enter values for mass and velocity, and then calls the kinetic_energy function to get the object’s kinetic energy.\n",
        "\n"
      ]
    },
    {
      "cell_type": "code",
      "metadata": {
        "id": "QqSa8zSGV7qs"
      },
      "source": [
        ""
      ],
      "execution_count": null,
      "outputs": []
    },
    {
      "cell_type": "code",
      "metadata": {
        "id": "j-l19_I9V7ze"
      },
      "source": [
        "m=int (input(\"Please, Enter the mass of the object in kilograms.... \"))\n",
        "v=int (input(\"Please, Enter the velocity of the object in meters per second... \"))\n",
        "\n",
        "KE=(1/2*m*(v**2))\n",
        "\n",
        "print(\"The kinetic energy of the object is \",KE)"
      ],
      "execution_count": null,
      "outputs": []
    }
  ]
}